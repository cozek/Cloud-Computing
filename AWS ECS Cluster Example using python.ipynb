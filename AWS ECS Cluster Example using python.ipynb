{
 "cells": [
  {
   "cell_type": "markdown",
   "metadata": {},
   "source": [
    "Complete the following tasks with Python Boto code\n",
    "1. Create ECS Cluster with 1 Container Instance\n",
    "2. Create a Task Definition (apache and wordpress)\n",
    "3. Create an ELB and Target Group to later associate with the ECS Service\n",
    "4. Create a Service that runs the Task Definition\n",
    "5. Confirm Everything is Working\n",
    "6. Scale Up the Service to 4 Tasks.\n",
    "7. Clean It All Up\n",
    "\n",
    "Docs:\n",
    "https://docs.aws.amazon.com/AmazonECS/latest/developerguide/launch_container_instance.html"
   ]
  },
  {
   "cell_type": "code",
   "execution_count": null,
   "metadata": {},
   "outputs": [],
   "source": [
    "import boto3\n",
    "import pprint\n",
    "import time\n",
    "\n",
    "ecs_client = boto3.client('ecs')"
   ]
  },
  {
   "cell_type": "markdown",
   "metadata": {},
   "source": [
    "### Creating our cluster"
   ]
  },
  {
   "cell_type": "code",
   "execution_count": null,
   "metadata": {},
   "outputs": [],
   "source": [
    "mycluster = 'myTestCluster'\n",
    "\n",
    "createClusterResponse = ecs_client.create_cluster(\n",
    "                        \n",
    "                        clusterName = mycluster,\n",
    "\n",
    "                        )\n",
    "\n"
   ]
  },
  {
   "cell_type": "code",
   "execution_count": null,
   "metadata": {},
   "outputs": [],
   "source": [
    "pprint.pprint(createClusterResponse)"
   ]
  },
  {
   "cell_type": "code",
   "execution_count": null,
   "metadata": {},
   "outputs": [],
   "source": [
    "\n"
   ]
  },
  {
   "cell_type": "code",
   "execution_count": null,
   "metadata": {},
   "outputs": [],
   "source": [
    "ec2_client = boto3.client('ec2')\n",
    "\n",
    "user_data_script =\"\"\"#!/bin/bash\n",
    "echo ECS_CLUSTER=myTestCluster >> /etc/ecs/ecs.config\"\"\"\n",
    "\n",
    "ec2Response = ec2_client.run_instances(\n",
    "\n",
    "                ImageId = 'ami-0b9a214f40c38d5eb', #amazon-ecs-optimized image\n",
    "#                 ImageId = 'ami-00129b193dc81bc31',\n",
    "                MinCount = 1,\n",
    "                MaxCount = 4,\n",
    "                InstanceType = 't2.micro',\n",
    "                KeyName='XXXXX',\n",
    "                SecurityGroupIds=['sg-XXXXXXXXXXX'],\n",
    "                IamInstanceProfile = {\n",
    "                    \"Name\" : \"ecsInstanceRole\"\n",
    "                },\n",
    "                UserData = user_data_script,\n",
    "                SubnetId='subnet-XXXXXX',\n",
    "\n",
    "            )"
   ]
  },
  {
   "cell_type": "code",
   "execution_count": null,
   "metadata": {},
   "outputs": [],
   "source": [
    "pprint.pprint(ec2Response)"
   ]
  },
  {
   "cell_type": "markdown",
   "metadata": {},
   "source": [
    "Save the ids for later use while cleaning up"
   ]
  },
  {
   "cell_type": "code",
   "execution_count": null,
   "metadata": {},
   "outputs": [],
   "source": [
    "# pprint.pprint(ec2Response['Instances'][1]['InstanceId'])\n",
    "ids =[]\n",
    "for i in ec2Response['Instances']:\n",
    "    ids.append(i['InstanceId'])\n",
    "    \n",
    "print(ids)"
   ]
  },
  {
   "cell_type": "markdown",
   "metadata": {},
   "source": [
    "## Creating a target group and load balancer."
   ]
  },
  {
   "cell_type": "code",
   "execution_count": null,
   "metadata": {},
   "outputs": [],
   "source": [
    "mytargetgroup = 'myTG'\n",
    "tg_response = boto3.client('elbv2').create_target_group(\n",
    "    Name=mytargetgroup,\n",
    "    Port=80,\n",
    "    Protocol='HTTP',\n",
    "    VpcId='vpc-XXXXXXX',\n",
    ")\n",
    "\n",
    "elbname = 'myElb'\n",
    "elb_response = boto3.client('elbv2').create_load_balancer(\n",
    "\n",
    "                Name = elbname,\n",
    "#                 Listeners = [\n",
    "#                   {\n",
    "#                     'InstancePort': 8080,\n",
    "#                     'InstanceProtocol': 'HTTP',\n",
    "#                     'LoadBalancerPort': 80,\n",
    "#                     'Protocol': 'HTTP',\n",
    "#                   },      \n",
    "#                 ],\n",
    "                Subnets=[\n",
    "                    'subnet-XXXXXXXX',\n",
    "                    'subnet-XXXXXXXX',\n",
    "                    'subnet-XXXXXXXX',\n",
    "                    'subnet-XXXXXXXX',\n",
    "                    'subnet-XXXXXXXX',\n",
    "                    'subnet-XXXXXXXX',\n",
    "                    'subnet-XXXXXXXX',\n",
    "                ],\n",
    "                SecurityGroups=[\n",
    "                    'sg-XXXXXX',\n",
    "                ],\n",
    "                )\n",
    "\n",
    "pprint.pprint(tg_response)\n",
    "pprint.pprint(elb_response)\n"
   ]
  },
  {
   "cell_type": "code",
   "execution_count": null,
   "metadata": {},
   "outputs": [],
   "source": [
    "# pprint.pprint(elb_response)\n",
    "tgarn = tg_response['TargetGroups'][0]['TargetGroupArn']\n",
    "lbarn = elb_response['LoadBalancers'][0]['LoadBalancerArn']"
   ]
  },
  {
   "cell_type": "markdown",
   "metadata": {},
   "source": [
    "## Creating a listner for the load balancer which associates the loadbalancer with our target group"
   ]
  },
  {
   "cell_type": "code",
   "execution_count": null,
   "metadata": {},
   "outputs": [],
   "source": [
    "listner_response =  boto3.client('elbv2').create_listener(\n",
    "    DefaultActions=[\n",
    "        {\n",
    "            'TargetGroupArn': tgarn,\n",
    "            'Type': 'forward',\n",
    "        },\n",
    "    ],\n",
    "    LoadBalancerArn=lbarn,\n",
    "    Port=80,\n",
    "    Protocol='HTTP',\n",
    ")\n"
   ]
  },
  {
   "cell_type": "code",
   "execution_count": null,
   "metadata": {},
   "outputs": [],
   "source": [
    "pprint.pprint(listner_response)"
   ]
  },
  {
   "cell_type": "markdown",
   "metadata": {},
   "source": [
    "## Creating the task definition"
   ]
  },
  {
   "cell_type": "code",
   "execution_count": null,
   "metadata": {},
   "outputs": [],
   "source": [
    "task_response = ecs_client.register_task_definition(\n",
    "    \n",
    "        containerDefinitions= [\n",
    "        {\n",
    "            \"environment\": [\n",
    "                {\n",
    "                    \"name\": \"WORDPRESS_DB_PASSWORD\",\n",
    "                    \"value\": \"ChangeMeIfYouWant\"\n",
    "                }\n",
    "            ],\n",
    "            \"essential\": True,\n",
    "            \"image\": \"wordpress\",\n",
    "#             \"image\": \"wordpress:apache\",\n",
    "#             \"image\": \"wordpress:4.9.8-apache\",\n",
    "            \"memory\": 300,\n",
    "            \"cpu\": 10,\n",
    "            \"links\": [\n",
    "                \"my-wpdb:mysql\"\n",
    "            ],\n",
    "#             \"mountPoints\": [\n",
    "#                 {\n",
    "#                     \"containerPath\": \"/var/www/html\",\n",
    "#                     \"sourceVolume\": \"vol-012b57b135a18d576\"\n",
    "#                 }\n",
    "#             ],\n",
    "            \"name\": \"my-wp\",\n",
    "            \"portMappings\": [\n",
    "                {\n",
    "                    \"containerPort\": 80,\n",
    "                    \"hostPort\": 8080\n",
    "                }\n",
    "            ]\n",
    "        },\n",
    "        {\n",
    "            \"environment\": [\n",
    "                {\n",
    "                    \"name\": \"MYSQL_ROOT_PASSWORD\",\n",
    "                    \"value\": \"ChangeMeIfYouWant\"\n",
    "                }\n",
    "            ],\n",
    "            \"essential\": True,\n",
    "            \"image\": \"mariadb\",\n",
    "            \"name\": \"my-wpdb\",\n",
    "            \"memory\": 300,\n",
    "            \"cpu\": 10,\n",
    "            \"portMappings\": [\n",
    "                {\n",
    "                    \"containerPort\": 3306,\n",
    "                    \"hostPort\": 8081\n",
    "                }\n",
    "            ]\n",
    "        }\n",
    "    ],\n",
    "\n",
    "#     volumes= [\n",
    "#         {\n",
    "#             \"host\": {\n",
    "#                 \"sourcePath\": \"./\"\n",
    "#             },\n",
    "#             \"name\": \"vol-XXXXXX\"\n",
    "#         }\n",
    "#     ],\n",
    "        family=\"wptry\"\n",
    "    )\n",
    "\n",
    "\n",
    "pprint.pprint(task_response)\n",
    "\n",
    "task_arn = task_response['taskDefinition']['taskDefinitionArn']"
   ]
  },
  {
   "cell_type": "markdown",
   "metadata": {},
   "source": [
    "## Launching a service based on the above task definiton"
   ]
  },
  {
   "cell_type": "code",
   "execution_count": null,
   "metadata": {},
   "outputs": [],
   "source": [
    "myservice = 'wordpress_service'\n",
    "\n",
    "create_service_response = ecs_client.create_service(\n",
    "                \n",
    "                            cluster = mycluster,\n",
    "                            serviceName= myservice,\n",
    "                            taskDefinition= task_arn,\n",
    "                            desiredCount=1,\n",
    "                            clientToken= 'my_token',\n",
    "                            launchType='EC2',\n",
    "                            loadBalancers=[\n",
    "                              {\n",
    "                                'targetGroupArn': tgarn,\n",
    "#                                 'loadBalancerName':elbname,\n",
    "                                'containerPort': 80,\n",
    "                                'containerName':'my-wp'\n",
    "                              },  \n",
    "                            ],\n",
    "                            healthCheckGracePeriodSeconds=500,\n",
    "                        )\n",
    "\n",
    "pprint.pprint(create_service_response)"
   ]
  },
  {
   "cell_type": "markdown",
   "metadata": {},
   "source": [
    "## Scaling up the service to 4"
   ]
  },
  {
   "cell_type": "code",
   "execution_count": null,
   "metadata": {},
   "outputs": [],
   "source": [
    "boto3.client('ecs').update_service(\n",
    "    cluster=mycluster,\n",
    "    service=myservice,\n",
    "    desiredCount=4,\n",
    ")"
   ]
  },
  {
   "cell_type": "markdown",
   "metadata": {},
   "source": [
    "## Deleting all the AWS Resources"
   ]
  },
  {
   "cell_type": "code",
   "execution_count": null,
   "metadata": {},
   "outputs": [],
   "source": [
    "boto3.client('ecs').update_service(\n",
    "    cluster=mycluster,\n",
    "    service=myservice,\n",
    "    desiredCount=0,\n",
    ")\n",
    "boto3.client('ecs').delete_service(\n",
    "    cluster=mycluster,\n",
    "    service=myservice,\n",
    "    force=True,\n",
    ")\n",
    "\n",
    "boto3.client('elbv2').delete_load_balancer(\n",
    "    LoadBalancerArn = lbarn,\n",
    ")\n",
    "\n"
   ]
  },
  {
   "cell_type": "code",
   "execution_count": null,
   "metadata": {},
   "outputs": [],
   "source": [
    "time.sleep(10)\n",
    "boto3.client('elbv2').delete_target_group(\n",
    "    TargetGroupArn=tgarn,\n",
    ")"
   ]
  },
  {
   "cell_type": "code",
   "execution_count": null,
   "metadata": {},
   "outputs": [],
   "source": []
  },
  {
   "cell_type": "code",
   "execution_count": null,
   "metadata": {},
   "outputs": [],
   "source": [
    "boto3.resource('ec2').instances.filter(InstanceIds=ids).stop()\n",
    "boto3.resource('ec2').instances.filter(InstanceIds=ids).terminate()"
   ]
  },
  {
   "cell_type": "code",
   "execution_count": null,
   "metadata": {},
   "outputs": [],
   "source": [
    "time.sleep(30)\n",
    "boto3.client('ecs').delete_cluster(\n",
    "    cluster = mycluster,\n",
    ")"
   ]
  }
 ],
 "metadata": {
  "kernelspec": {
   "display_name": "Python 3",
   "language": "python",
   "name": "python3"
  },
  "language_info": {
   "codemirror_mode": {
    "name": "ipython",
    "version": 3
   },
   "file_extension": ".py",
   "mimetype": "text/x-python",
   "name": "python",
   "nbconvert_exporter": "python",
   "pygments_lexer": "ipython3",
   "version": "3.7.0"
  }
 },
 "nbformat": 4,
 "nbformat_minor": 2
}
