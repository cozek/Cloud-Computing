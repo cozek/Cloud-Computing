{
 "cells": [
  {
   "cell_type": "markdown",
   "metadata": {},
   "source": [
    "\n",
    "<h3>\n",
    "Python 3 scripts that does the following<br>\n",
    "\n",
    " Create a startup script to install Apache server and copy the website files from S3 to the\n",
    "instance.<br>\n",
    " Create a Python program using boto that creates an Amazon AutoScaling group. Define\n",
    "scale up and scale down policies and corresponding CloudWatch alarms. Supply the\n",
    "startup script you created in previous step while launching a new instance from the\n",
    "program. Use a security group port 80 open.<br>\n",
    " Open the public DNS of the newly launched instance in a browser and verify if the static\n",
    "website works.<br>\n",
    "</h3>"
   ]
  },
  {
   "cell_type": "markdown",
   "metadata": {},
   "source": [
    "First we import boto3 and create an instance of the client class for AutoScaling <br>\n",
    "\n",
    "Then we write our user script for hosting Apache server and create a new launch configuration for creating <br>\n",
    "our AWS AutoScaling Group and pass the necessary parameters as given in the documentation \n",
    "<a href=\"https://boto3.readthedocs.io/en/latest/reference/services/autoscaling.html\">here</a><br>\n"
   ]
  },
  {
   "cell_type": "code",
   "execution_count": 1,
   "metadata": {},
   "outputs": [
    {
     "ename": "AlreadyExistsFault",
     "evalue": "An error occurred (AlreadyExists) when calling the CreateLaunchConfiguration operation: Launch Configuration by this name already exists - A launch configuration already exists with the name MyAutoScalingLaunchConfig",
     "output_type": "error",
     "traceback": [
      "\u001b[0;31m---------------------------------------------------------------------------\u001b[0m",
      "\u001b[0;31mAlreadyExistsFault\u001b[0m                        Traceback (most recent call last)",
      "\u001b[0;32m<ipython-input-1-d8f376788a55>\u001b[0m in \u001b[0;36m<module>\u001b[0;34m()\u001b[0m\n\u001b[1;32m     25\u001b[0m                     \u001b[0;34m'Enabled'\u001b[0m\u001b[0;34m:\u001b[0m\u001b[0;32mTrue\u001b[0m\u001b[0;34m\u001b[0m\u001b[0m\n\u001b[1;32m     26\u001b[0m                 },\n\u001b[0;32m---> 27\u001b[0;31m                 \u001b[0mAssociatePublicIpAddress\u001b[0m\u001b[0;34m=\u001b[0m\u001b[0;32mTrue\u001b[0m\u001b[0;34m,\u001b[0m\u001b[0;34m\u001b[0m\u001b[0m\n\u001b[0m\u001b[1;32m     28\u001b[0m \u001b[0;34m\u001b[0m\u001b[0m\n\u001b[1;32m     29\u001b[0m \u001b[0;34m\u001b[0m\u001b[0m\n",
      "\u001b[0;32m~/.local/lib/python3.6/site-packages/botocore/client.py\u001b[0m in \u001b[0;36m_api_call\u001b[0;34m(self, *args, **kwargs)\u001b[0m\n\u001b[1;32m    312\u001b[0m                     \"%s() only accepts keyword arguments.\" % py_operation_name)\n\u001b[1;32m    313\u001b[0m             \u001b[0;31m# The \"self\" in this scope is referring to the BaseClient.\u001b[0m\u001b[0;34m\u001b[0m\u001b[0;34m\u001b[0m\u001b[0m\n\u001b[0;32m--> 314\u001b[0;31m             \u001b[0;32mreturn\u001b[0m \u001b[0mself\u001b[0m\u001b[0;34m.\u001b[0m\u001b[0m_make_api_call\u001b[0m\u001b[0;34m(\u001b[0m\u001b[0moperation_name\u001b[0m\u001b[0;34m,\u001b[0m \u001b[0mkwargs\u001b[0m\u001b[0;34m)\u001b[0m\u001b[0;34m\u001b[0m\u001b[0m\n\u001b[0m\u001b[1;32m    315\u001b[0m \u001b[0;34m\u001b[0m\u001b[0m\n\u001b[1;32m    316\u001b[0m         \u001b[0m_api_call\u001b[0m\u001b[0;34m.\u001b[0m\u001b[0m__name__\u001b[0m \u001b[0;34m=\u001b[0m \u001b[0mstr\u001b[0m\u001b[0;34m(\u001b[0m\u001b[0mpy_operation_name\u001b[0m\u001b[0;34m)\u001b[0m\u001b[0;34m\u001b[0m\u001b[0m\n",
      "\u001b[0;32m~/.local/lib/python3.6/site-packages/botocore/client.py\u001b[0m in \u001b[0;36m_make_api_call\u001b[0;34m(self, operation_name, api_params)\u001b[0m\n\u001b[1;32m    610\u001b[0m             \u001b[0merror_code\u001b[0m \u001b[0;34m=\u001b[0m \u001b[0mparsed_response\u001b[0m\u001b[0;34m.\u001b[0m\u001b[0mget\u001b[0m\u001b[0;34m(\u001b[0m\u001b[0;34m\"Error\"\u001b[0m\u001b[0;34m,\u001b[0m \u001b[0;34m{\u001b[0m\u001b[0;34m}\u001b[0m\u001b[0;34m)\u001b[0m\u001b[0;34m.\u001b[0m\u001b[0mget\u001b[0m\u001b[0;34m(\u001b[0m\u001b[0;34m\"Code\"\u001b[0m\u001b[0;34m)\u001b[0m\u001b[0;34m\u001b[0m\u001b[0m\n\u001b[1;32m    611\u001b[0m             \u001b[0merror_class\u001b[0m \u001b[0;34m=\u001b[0m \u001b[0mself\u001b[0m\u001b[0;34m.\u001b[0m\u001b[0mexceptions\u001b[0m\u001b[0;34m.\u001b[0m\u001b[0mfrom_code\u001b[0m\u001b[0;34m(\u001b[0m\u001b[0merror_code\u001b[0m\u001b[0;34m)\u001b[0m\u001b[0;34m\u001b[0m\u001b[0m\n\u001b[0;32m--> 612\u001b[0;31m             \u001b[0;32mraise\u001b[0m \u001b[0merror_class\u001b[0m\u001b[0;34m(\u001b[0m\u001b[0mparsed_response\u001b[0m\u001b[0;34m,\u001b[0m \u001b[0moperation_name\u001b[0m\u001b[0;34m)\u001b[0m\u001b[0;34m\u001b[0m\u001b[0m\n\u001b[0m\u001b[1;32m    613\u001b[0m         \u001b[0;32melse\u001b[0m\u001b[0;34m:\u001b[0m\u001b[0;34m\u001b[0m\u001b[0m\n\u001b[1;32m    614\u001b[0m             \u001b[0;32mreturn\u001b[0m \u001b[0mparsed_response\u001b[0m\u001b[0;34m\u001b[0m\u001b[0m\n",
      "\u001b[0;31mAlreadyExistsFault\u001b[0m: An error occurred (AlreadyExists) when calling the CreateLaunchConfiguration operation: Launch Configuration by this name already exists - A launch configuration already exists with the name MyAutoScalingLaunchConfig"
     ]
    }
   ],
   "source": [
    "import boto3\n",
    "\n",
    "from pprint import pprint\n",
    "\n",
    "as_client = boto3.client('autoscaling')\n",
    "\n",
    "user_data_script =\"\"\"#!/bin/bash\n",
    "sudo apt-get update\n",
    "sudo apt-get install -y build-essential\n",
    "sudo apt-get install -y apache2\n",
    "curl https://s3.ap-south-1.amazonaws.com/www.kaushik.das/index.html > index.html\n",
    "sudo rm /var/www/html/index.html\n",
    "sudo mv index.html /var/www/html/index.html\"\"\"\n",
    "\n",
    "\n",
    "response_lc = as_client.create_launch_configuration(\n",
    "                \n",
    "                LaunchConfigurationName='MyAutoScalingLaunchConfig',\n",
    "                ImageId='ami-04169656fea786776',\n",
    "                KeyName='ec2-1',\n",
    "                SecurityGroups=['sg-0fffb748eaf870000'],\n",
    "                UserData=user_data_script,\n",
    "                InstanceType='t2.micro',\n",
    "                InstanceMonitoring={\n",
    "                    'Enabled':True\n",
    "                },\n",
    "                AssociatePublicIpAddress=True,\n",
    "                    \n",
    "                \n",
    "            )\n",
    "\n",
    "\n",
    "\n"
   ]
  },
  {
   "cell_type": "markdown",
   "metadata": {},
   "source": [
    "After we have our launch configuration we create our autoscaling group. "
   ]
  },
  {
   "cell_type": "code",
   "execution_count": 2,
   "metadata": {},
   "outputs": [],
   "source": [
    "response_asg = as_client.create_auto_scaling_group(\n",
    "\n",
    "                AutoScalingGroupName = 'MyAutoScalingGroup',\n",
    "                LaunchConfigurationName = 'MyAutoScalingLaunchConfig',\n",
    "                MinSize = 1,\n",
    "                MaxSize = 3,\n",
    "                DesiredCapacity = 1,\n",
    "                HealthCheckType = 'EC2',\n",
    "                VPCZoneIdentifier = 'subnet-3715906b'\n",
    "    \n",
    "            )\n"
   ]
  },
  {
   "cell_type": "code",
   "execution_count": 3,
   "metadata": {},
   "outputs": [
    {
     "name": "stdout",
     "output_type": "stream",
     "text": [
      "{'ResponseMetadata': {'HTTPHeaders': {'content-length': '231',\n",
      "                                      'content-type': 'text/xml',\n",
      "                                      'date': 'Wed, 29 Aug 2018 03:51:38 GMT',\n",
      "                                      'x-amzn-requestid': 'd530d805-ab3e-11e8-840c-790e82f5c0ab'},\n",
      "                      'HTTPStatusCode': 200,\n",
      "                      'RequestId': 'd530d805-ab3e-11e8-840c-790e82f5c0ab',\n",
      "                      'RetryAttempts': 0}}\n"
     ]
    }
   ],
   "source": [
    "pprint(response_asg)"
   ]
  },
  {
   "cell_type": "markdown",
   "metadata": {},
   "source": [
    "We print the details about the autoscaling group\n"
   ]
  },
  {
   "cell_type": "code",
   "execution_count": 4,
   "metadata": {},
   "outputs": [
    {
     "name": "stdout",
     "output_type": "stream",
     "text": [
      "{'AutoScalingGroups': [{'AutoScalingGroupARN': 'arn:aws:autoscaling:us-east-1:117198229476:autoScalingGroup:a7040423-9afb-4e7a-bcbb-ebec8f507da8:autoScalingGroupName/MyAutoScalingGroup',\n",
      "                        'AutoScalingGroupName': 'MyAutoScalingGroup',\n",
      "                        'AvailabilityZones': ['us-east-1c'],\n",
      "                        'CreatedTime': datetime.datetime(2018, 8, 29, 3, 51, 39, 107000, tzinfo=tzutc()),\n",
      "                        'DefaultCooldown': 300,\n",
      "                        'DesiredCapacity': 1,\n",
      "                        'EnabledMetrics': [],\n",
      "                        'HealthCheckGracePeriod': 0,\n",
      "                        'HealthCheckType': 'EC2',\n",
      "                        'Instances': [{'AvailabilityZone': 'us-east-1c',\n",
      "                                       'HealthStatus': 'Healthy',\n",
      "                                       'InstanceId': 'i-0a6cb2db56a699897',\n",
      "                                       'LaunchConfigurationName': 'MyAutoScalingLaunchConfig',\n",
      "                                       'LifecycleState': 'Pending',\n",
      "                                       'ProtectedFromScaleIn': False}],\n",
      "                        'LaunchConfigurationName': 'MyAutoScalingLaunchConfig',\n",
      "                        'LoadBalancerNames': [],\n",
      "                        'MaxSize': 3,\n",
      "                        'MinSize': 1,\n",
      "                        'NewInstancesProtectedFromScaleIn': False,\n",
      "                        'ServiceLinkedRoleARN': 'arn:aws:iam::117198229476:role/aws-service-role/autoscaling.amazonaws.com/AWSServiceRoleForAutoScaling',\n",
      "                        'SuspendedProcesses': [],\n",
      "                        'Tags': [],\n",
      "                        'TargetGroupARNs': [],\n",
      "                        'TerminationPolicies': ['Default'],\n",
      "                        'VPCZoneIdentifier': 'subnet-3715906b'}],\n",
      " 'ResponseMetadata': {'HTTPHeaders': {'content-length': '2123',\n",
      "                                      'content-type': 'text/xml',\n",
      "                                      'date': 'Wed, 29 Aug 2018 03:52:17 GMT',\n",
      "                                      'vary': 'Accept-Encoding',\n",
      "                                      'x-amzn-requestid': 'eca15c58-ab3e-11e8-9ad6-ef8fb4ab71dd'},\n",
      "                      'HTTPStatusCode': 200,\n",
      "                      'RequestId': 'eca15c58-ab3e-11e8-9ad6-ef8fb4ab71dd',\n",
      "                      'RetryAttempts': 0}}\n"
     ]
    }
   ],
   "source": [
    "r = as_client.describe_auto_scaling_groups(\n",
    "    AutoScalingGroupNames=[\n",
    "        'MyAutoScalingGroup',\n",
    "    ],\n",
    "    MaxRecords=10\n",
    ")\n",
    "\n",
    "pprint(r)"
   ]
  },
  {
   "cell_type": "markdown",
   "metadata": {},
   "source": [
    "Next we create a scale up policy for our autoscaling group.<br>\n",
    "The policy below allows the number of instances to be increased by one.\n",
    "\n",
    "\n"
   ]
  },
  {
   "cell_type": "code",
   "execution_count": 5,
   "metadata": {},
   "outputs": [],
   "source": [
    "response_asgp = as_client.put_scaling_policy(\n",
    "\n",
    "                    AutoScalingGroupName = 'MyAutoScalingGroup',\n",
    "                    PolicyName = 'ASGPolicy',\n",
    "                    PolicyType = 'SimpleScaling',\n",
    "                    AdjustmentType = 'ChangeInCapacity',\n",
    "                    ScalingAdjustment = -1,\n",
    "    \n",
    "                )"
   ]
  },
  {
   "cell_type": "markdown",
   "metadata": {},
   "source": [
    "We parse the response and save the PolicyARN in a variable for later use with CloudWatch Alarm"
   ]
  },
  {
   "cell_type": "code",
   "execution_count": 6,
   "metadata": {},
   "outputs": [
    {
     "name": "stdout",
     "output_type": "stream",
     "text": [
      "{'Alarms': [],\n",
      " 'PolicyARN': 'arn:aws:autoscaling:us-east-1:117198229476:scalingPolicy:314eb676-7702-49aa-ac57-fe1186d0d2ca:autoScalingGroupName/MyAutoScalingGroup:policyName/ASGPolicy',\n",
      " 'ResponseMetadata': {'HTTPHeaders': {'content-length': '470',\n",
      "                                      'content-type': 'text/xml',\n",
      "                                      'date': 'Wed, 29 Aug 2018 03:53:34 GMT',\n",
      "                                      'x-amzn-requestid': '1a0a6bb4-ab3f-11e8-b40c-75bb3b5d6933'},\n",
      "                      'HTTPStatusCode': 200,\n",
      "                      'RequestId': '1a0a6bb4-ab3f-11e8-b40c-75bb3b5d6933',\n",
      "                      'RetryAttempts': 0}}\n",
      "arn:aws:autoscaling:us-east-1:117198229476:scalingPolicy:314eb676-7702-49aa-ac57-fe1186d0d2ca:autoScalingGroupName/MyAutoScalingGroup:policyName/ASGPolicy\n"
     ]
    }
   ],
   "source": [
    "pprint(response_asgp)\n",
    "action_down = response_asgp.get('PolicyARN')\n",
    "print(action_down)"
   ]
  },
  {
   "cell_type": "markdown",
   "metadata": {},
   "source": [
    "Similarly , we create a scale down policy that allows for the number of instances to be decreased by one.<br>\n",
    "We save the PoliyARN for later use with cloudWatch."
   ]
  },
  {
   "cell_type": "code",
   "execution_count": 7,
   "metadata": {},
   "outputs": [],
   "source": [
    "response_asgpu = as_client.put_scaling_policy(\n",
    "\n",
    "                    AutoScalingGroupName = 'MyAutoScalingGroup',\n",
    "                    PolicyName = 'ASGPolicyUp',\n",
    "                    PolicyType = 'SimpleScaling',\n",
    "                    AdjustmentType = 'ChangeInCapacity',\n",
    "                    ScalingAdjustment = +1,\n",
    "    \n",
    "                )"
   ]
  },
  {
   "cell_type": "code",
   "execution_count": 8,
   "metadata": {},
   "outputs": [
    {
     "name": "stdout",
     "output_type": "stream",
     "text": [
      "{'Alarms': [],\n",
      " 'PolicyARN': 'arn:aws:autoscaling:us-east-1:117198229476:scalingPolicy:e427f228-5c26-44b7-a633-21b2b5582f11:autoScalingGroupName/MyAutoScalingGroup:policyName/ASGPolicyUp',\n",
      " 'ResponseMetadata': {'HTTPHeaders': {'content-length': '472',\n",
      "                                      'content-type': 'text/xml',\n",
      "                                      'date': 'Wed, 29 Aug 2018 03:53:56 GMT',\n",
      "                                      'x-amzn-requestid': '27883ffb-ab3f-11e8-97b4-0b64b5f1862e'},\n",
      "                      'HTTPStatusCode': 200,\n",
      "                      'RequestId': '27883ffb-ab3f-11e8-97b4-0b64b5f1862e',\n",
      "                      'RetryAttempts': 0}}\n",
      "arn:aws:autoscaling:us-east-1:117198229476:scalingPolicy:e427f228-5c26-44b7-a633-21b2b5582f11:autoScalingGroupName/MyAutoScalingGroup:policyName/ASGPolicyUp\n"
     ]
    }
   ],
   "source": [
    "pprint(response_asgpu)\n",
    "action_up = response_asgpu.get('PolicyARN')\n",
    "print(action_up)"
   ]
  },
  {
   "cell_type": "markdown",
   "metadata": {},
   "source": [
    "Next ,we set up a <a href=\"https://boto3.readthedocs.io/en/latest/reference/services/cloudwatch.html\">CloudWatch alarm</a>, the particular alarm below keeps checking the autoscaling group instances for two<br> points of threshhold breach every two minutes. The threshhold in the alarm below is described by CPU <br>Utilization. When the cpu utilization raises above 70, it takes action as per our scale up policy and creates<br> another instance. <br>\n",
    "\n",
    "Some metrics for the threshold and their detailed explaination can be found in<a href=\"https://docs.aws.amazon.com/AmazonCloudWatch/latest/monitoring/ec2-metricscollected.html\n",
    "\"> here</a>.<br>\n"
   ]
  },
  {
   "cell_type": "code",
   "execution_count": 9,
   "metadata": {},
   "outputs": [],
   "source": [
    "cloudwatch_client = boto3.client('cloudwatch')\n",
    "\n",
    "response_alarm_up = cloudwatch_client.put_metric_alarm(\n",
    "\n",
    "                AlarmName = 'MyASGAlarm_scaleUp',\n",
    "                AlarmDescription = 'AutoScaling Group Instance Alarm',\n",
    "                ActionsEnabled = True,\n",
    "                \n",
    "                AlarmActions = [\n",
    "                        action_up\n",
    "                ],\n",
    "    \n",
    "                MetricName = 'CPUUtilization',\n",
    "                Namespace = 'AWS/EC2',\n",
    "                Statistic = 'Average',\n",
    "                Dimensions = [\n",
    "                    {\n",
    "                    'Name': 'AutoScalingGroupName',\n",
    "                    'Value': 'MyAutoScalingGroup'\n",
    "                    }\n",
    "                ],\n",
    "                Period = 60,\n",
    "                Unit = 'Percent',\n",
    "                EvaluationPeriods = 2,\n",
    "                Threshold = 70,\n",
    "                ComparisonOperator= 'GreaterThanThreshold'\n",
    "    \n",
    "\n",
    "            )\n",
    "\n",
    "\n",
    "# GreaterThanThreshold, LessThanThreshold, LessThanOrEqualToThreshold, GreaterThanOrEqualToThreshold]\n",
    "\n"
   ]
  },
  {
   "cell_type": "code",
   "execution_count": 10,
   "metadata": {},
   "outputs": [
    {
     "name": "stdout",
     "output_type": "stream",
     "text": [
      "{'ResponseMetadata': {'HTTPHeaders': {'content-length': '214',\n",
      "                                      'content-type': 'text/xml',\n",
      "                                      'date': 'Wed, 29 Aug 2018 03:55:10 GMT',\n",
      "                                      'x-amzn-requestid': '53ad0f3c-ab3f-11e8-a0cd-013671332683'},\n",
      "                      'HTTPStatusCode': 200,\n",
      "                      'RequestId': '53ad0f3c-ab3f-11e8-a0cd-013671332683',\n",
      "                      'RetryAttempts': 0}}\n"
     ]
    }
   ],
   "source": [
    "pprint(response_alarm_up)"
   ]
  },
  {
   "cell_type": "markdown",
   "metadata": {},
   "source": [
    "Similar thing here, we create another alarm that monitors CPU utilization, and calls upon the scale down policy incase the CPU utiliztion decreases below 40%."
   ]
  },
  {
   "cell_type": "code",
   "execution_count": 11,
   "metadata": {},
   "outputs": [],
   "source": [
    "\n",
    "response_alarm_down = cloudwatch_client.put_metric_alarm(\n",
    "\n",
    "                AlarmName = 'MyASGAlarm_scaleDown',\n",
    "                AlarmDescription = 'AutoScaling Group Instance Alarm',\n",
    "                ActionsEnabled = True,\n",
    "                \n",
    "                AlarmActions = [\n",
    "                        action_down\n",
    "                ],\n",
    "    \n",
    "                MetricName = 'CPUUtilization',\n",
    "                Namespace = 'AWS/EC2',\n",
    "                Statistic = 'Average',\n",
    "                Dimensions = [\n",
    "                    {\n",
    "                    'Name': 'AutoScalingGroupName',\n",
    "                    'Value': 'MyAutoScalingGroup'\n",
    "                    }\n",
    "                ],\n",
    "                Period = 60,\n",
    "                Unit = 'Percent',\n",
    "                EvaluationPeriods = 2,\n",
    "                Threshold = 40,\n",
    "                ComparisonOperator= 'LessThanThreshold'\n",
    "    \n",
    "\n",
    "            )\n"
   ]
  },
  {
   "cell_type": "code",
   "execution_count": 12,
   "metadata": {},
   "outputs": [
    {
     "name": "stdout",
     "output_type": "stream",
     "text": [
      "{'ResponseMetadata': {'HTTPHeaders': {'content-length': '214',\n",
      "                                      'content-type': 'text/xml',\n",
      "                                      'date': 'Wed, 29 Aug 2018 03:55:28 GMT',\n",
      "                                      'x-amzn-requestid': '5e289fe7-ab3f-11e8-b191-2f8851e635e0'},\n",
      "                      'HTTPStatusCode': 200,\n",
      "                      'RequestId': '5e289fe7-ab3f-11e8-b191-2f8851e635e0',\n",
      "                      'RetryAttempts': 0}}\n"
     ]
    }
   ],
   "source": [
    "pprint(response_alarm_down)"
   ]
  },
  {
   "cell_type": "markdown",
   "metadata": {},
   "source": [
    "Now we delete our autoScaling group to free resources"
   ]
  },
  {
   "cell_type": "code",
   "execution_count": null,
   "metadata": {},
   "outputs": [],
   "source": [
    "response_del = as_client.delete_auto_scaling_group(\n",
    "    AutoScalingGroupName='MyAutoScalingGroup',\n",
    "    ForceDelete=True\n",
    ")"
   ]
  }
 ],
 "metadata": {
  "kernelspec": {
   "display_name": "Python 3",
   "language": "python",
   "name": "python3"
  },
  "language_info": {
   "codemirror_mode": {
    "name": "ipython",
    "version": 3
   },
   "file_extension": ".py",
   "mimetype": "text/x-python",
   "name": "python",
   "nbconvert_exporter": "python",
   "pygments_lexer": "ipython3",
   "version": "3.6.5"
  }
 },
 "nbformat": 4,
 "nbformat_minor": 2
}
