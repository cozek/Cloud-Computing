{
 "cells": [
  {
   "cell_type": "markdown",
   "metadata": {},
   "source": [
    "## "
    "Python 3 scripts that uses boto 3 to do the following in AWS 
 Launch an t2.micro Ubuntu instance.
 Lunch two more t2.micro Ubuntu instances.
 List all the running instances.
 Check health of the running instances.
 Stop the running instances."
   ]
  },
  {
   "cell_type": "markdown",
   "metadata": {},
   "source": [
    "<h3>Importing Required Modules \n",
    "and Creating a single Ec2 instance\n",
    "</h3>"
   ]
  },
  {
   "cell_type": "code",
   "execution_count": 15,
   "metadata": {},
   "outputs": [
    {
     "data": {
      "text/plain": [
       "[ec2.Instance(id='i-048e6fb556e951cd7')]"
      ]
     },
     "execution_count": 15,
     "metadata": {},
     "output_type": "execute_result"
    }
   ],
   "source": [
    "\n",
    "import boto3\n",
    "import time\n",
    "from pprint import pprint\n",
    "\n",
    "\n",
    "ec2 = boto3.resource('ec2')\n",
    "\n",
    "\n",
    "ec2.create_instances(\n",
    "    ImageId='ami-759bc50a',\n",
    "    MinCount=1,\n",
    "    MaxCount=1,\n",
    "    KeyName=\"ec2-1\",\n",
    "    SecurityGroups=[\"http_security_group\"],\n",
    "    InstanceType='t2.micro'\n",
    "    )\n"
   ]
  },
  {
   "cell_type": "markdown",
   "metadata": {},
   "source": [
    "<h3>\n",
    "Creating 2 more instances. \n",
    "Notice the MaxCount attribute changed\n",
    "</h3>"
   ]
  },
  {
   "cell_type": "code",
   "execution_count": 16,
   "metadata": {},
   "outputs": [
    {
     "data": {
      "text/plain": [
       "[ec2.Instance(id='i-030aae8e79762f6b8'),\n",
       " ec2.Instance(id='i-0612fad6c18d1f90c')]"
      ]
     },
     "execution_count": 16,
     "metadata": {},
     "output_type": "execute_result"
    }
   ],
   "source": [
    "ec2.create_instances(\n",
    "    ImageId='ami-759bc50a',\n",
    "    MinCount=1,\n",
    "    MaxCount=2,\n",
    "    KeyName=\"ec2-1\",\n",
    "    SecurityGroups=[\"http_security_group\"],\n",
    "    InstanceType='t2.micro'\n",
    "    )\n",
    "\n"
   ]
  },
  {
   "cell_type": "markdown",
   "metadata": {},
   "source": [
    "<h3>Waitiing 60 seconds to let instances get created.</h3>"
   ]
  },
  {
   "cell_type": "code",
   "execution_count": null,
   "metadata": {},
   "outputs": [],
   "source": [
    "time.sleep(60) #probably not required while in jupyter"
   ]
  },
  {
   "cell_type": "markdown",
   "metadata": {},
   "source": [
    "<h3>Now we create a list called 'running_instances' to store <br>\n",
    "the instance ids of the newly launched instances. <br>\n",
    "Assuming I have no other instances running at the moment. <br>\n",
    "\n",
    "And then listing all the running instances <br>\n",
    "and appending their instance ids in the list mentioned before. <br>\n",
    "</h3>"
   ]
  },
  {
   "cell_type": "code",
   "execution_count": 17,
   "metadata": {},
   "outputs": [
    {
     "name": "stdout",
     "output_type": "stream",
     "text": [
      "i-030aae8e79762f6b8 t2.micro ec2-52-90-75-88.compute-1.amazonaws.com\n",
      "i-0612fad6c18d1f90c t2.micro ec2-34-207-161-56.compute-1.amazonaws.com\n",
      "i-048e6fb556e951cd7 t2.micro ec2-52-202-90-133.compute-1.amazonaws.com\n"
     ]
    }
   ],
   "source": [
    "running_instances = []\n",
    "\n",
    "instances = ec2.instances.filter(\n",
    "    Filters=[{'Name': 'instance-state-name', 'Values': ['running']}])\n",
    "for instance in instances:\n",
    "    print(instance.id, instance.instance_type,instance.public_dns_name)\n",
    "    running_instances.append(instance.id)\n"
   ]
  },
  {
   "cell_type": "markdown",
   "metadata": {},
   "source": [
    "<h3>\n",
    "Now to check health of all the running instances\n",
    "we need to \n",
    "create an instance of the boto.client class \n",
    "\n",
    "and call\n",
    "\n",
    "the describe_instance_status method \n",
    "as mentioned\n",
    "<a href='https://boto3.readthedocs.io/en/latest/reference/services/ec2.html#EC2.Client.describe_instance_status'>Here</a>\n",
    "\n",
    "</h3>"
   ]
  },
  {
   "cell_type": "code",
   "execution_count": 18,
   "metadata": {},
   "outputs": [],
   "source": [
    "\n",
    "ec2client = boto3.client('ec2')\n",
    "\n",
    "response = ec2client.describe_instance_status(\n",
    "    Filters=[\n",
    "        {\n",
    "            'Name': 'instance-status.status',\n",
    "            'Values': [\n",
    "                'ok', 'impaired', 'initializing' ,' insufficient-data', 'not-applicable'\n",
    "            ]\n",
    "        },\n",
    "    ],\n",
    "    InstanceIds=running_instances,\n",
    "    # MaxResults=10,\n",
    "    # NextToken='string',\n",
    "    # DryRun=False,\n",
    "    IncludeAllInstances=False #change to true to show all instances, default is running instances only\n",
    ")\n"
   ]
  },
  {
   "cell_type": "markdown",
   "metadata": {},
   "source": [
    "<h3>\n",
    "Printing the response using pprint <br><br>\n",
    "It produces a ginormous python dictionary with <br><br>\n",
    "various information regarding the running insances <br><br>\n",
    "but filtered to cater about to instance-status.status <br><br>\n",
    "</h3>"
   ]
  },
  {
   "cell_type": "code",
   "execution_count": 19,
   "metadata": {},
   "outputs": [
    {
     "name": "stdout",
     "output_type": "stream",
     "text": [
      "{'InstanceStatuses': [{'AvailabilityZone': 'us-east-1a',\n",
      "                       'InstanceId': 'i-048e6fb556e951cd7',\n",
      "                       'InstanceState': {'Code': 16, 'Name': 'running'},\n",
      "                       'InstanceStatus': {'Details': [{'Name': 'reachability',\n",
      "                                                       'Status': 'initializing'}],\n",
      "                                          'Status': 'initializing'},\n",
      "                       'SystemStatus': {'Details': [{'Name': 'reachability',\n",
      "                                                     'Status': 'initializing'}],\n",
      "                                        'Status': 'initializing'}},\n",
      "                      {'AvailabilityZone': 'us-east-1a',\n",
      "                       'InstanceId': 'i-030aae8e79762f6b8',\n",
      "                       'InstanceState': {'Code': 16, 'Name': 'running'},\n",
      "                       'InstanceStatus': {'Details': [{'Name': 'reachability',\n",
      "                                                       'Status': 'initializing'}],\n",
      "                                          'Status': 'initializing'},\n",
      "                       'SystemStatus': {'Details': [{'Name': 'reachability',\n",
      "                                                     'Status': 'initializing'}],\n",
      "                                        'Status': 'initializing'}},\n",
      "                      {'AvailabilityZone': 'us-east-1a',\n",
      "                       'InstanceId': 'i-0612fad6c18d1f90c',\n",
      "                       'InstanceState': {'Code': 16, 'Name': 'running'},\n",
      "                       'InstanceStatus': {'Details': [{'Name': 'reachability',\n",
      "                                                       'Status': 'initializing'}],\n",
      "                                          'Status': 'initializing'},\n",
      "                       'SystemStatus': {'Details': [{'Name': 'reachability',\n",
      "                                                     'Status': 'initializing'}],\n",
      "                                        'Status': 'initializing'}}],\n",
      " 'ResponseMetadata': {'HTTPHeaders': {'content-type': 'text/xml;charset=UTF-8',\n",
      "                                      'date': 'Thu, 23 Aug 2018 03:51:44 GMT',\n",
      "                                      'server': 'AmazonEC2',\n",
      "                                      'transfer-encoding': 'chunked',\n",
      "                                      'vary': 'Accept-Encoding'},\n",
      "                      'HTTPStatusCode': 200,\n",
      "                      'RequestId': '27670ef2-4be5-46b6-81e5-b3c7f841a830',\n",
      "                      'RetryAttempts': 0}}\n"
     ]
    }
   ],
   "source": [
    "pprint(response)\n"
   ]
  },
  {
   "cell_type": "markdown",
   "metadata": {},
   "source": [
    "\n",
    "## Next we parse through the above dictionary to extract the\n",
    "\n",
    "## information that we need"
   ]
  },
  {
   "cell_type": "code",
   "execution_count": 20,
   "metadata": {},
   "outputs": [
    {
     "name": "stdout",
     "output_type": "stream",
     "text": [
      "\n",
      " Instance Id:  i-048e6fb556e951cd7 \n",
      " Instance Status:  {'Details': [{'Name': 'reachability', 'Status': 'initializing'}], 'Status': 'initializing'} \n",
      " System Status:  {'Details': [{'Name': 'reachability', 'Status': 'initializing'}], 'Status': 'initializing'}\n",
      "\n",
      " Instance Id:  i-030aae8e79762f6b8 \n",
      " Instance Status:  {'Details': [{'Name': 'reachability', 'Status': 'initializing'}], 'Status': 'initializing'} \n",
      " System Status:  {'Details': [{'Name': 'reachability', 'Status': 'initializing'}], 'Status': 'initializing'}\n",
      "\n",
      " Instance Id:  i-0612fad6c18d1f90c \n",
      " Instance Status:  {'Details': [{'Name': 'reachability', 'Status': 'initializing'}], 'Status': 'initializing'} \n",
      " System Status:  {'Details': [{'Name': 'reachability', 'Status': 'initializing'}], 'Status': 'initializing'}\n"
     ]
    }
   ],
   "source": [
    "for i in response.get('InstanceStatuses'):\n",
    "    print('\\n','Instance Id: ',i.get('InstanceId'),'\\n Instance Status: ',i.get('InstanceStatus'),\n",
    "    '\\n System Status: ', i.get('SystemStatus')\n",
    "    )"
   ]
  },
  {
   "cell_type": "markdown",
   "metadata": {},
   "source": [
    "<h3>\n",
    "Then we wait 30 seconds before terminating these newly created instances , <br><br>\n",
    "because the instances might get terminated before the request for instance status is even serviced.\n",
    "</h3>"
   ]
  },
  {
   "cell_type": "code",
   "execution_count": 21,
   "metadata": {},
   "outputs": [
    {
     "data": {
      "text/plain": [
       "[{'TerminatingInstances': [{'CurrentState': {'Code': 32,\n",
       "     'Name': 'shutting-down'},\n",
       "    'InstanceId': 'i-0612fad6c18d1f90c',\n",
       "    'PreviousState': {'Code': 16, 'Name': 'running'}},\n",
       "   {'CurrentState': {'Code': 32, 'Name': 'shutting-down'},\n",
       "    'InstanceId': 'i-048e6fb556e951cd7',\n",
       "    'PreviousState': {'Code': 16, 'Name': 'running'}},\n",
       "   {'CurrentState': {'Code': 32, 'Name': 'shutting-down'},\n",
       "    'InstanceId': 'i-030aae8e79762f6b8',\n",
       "    'PreviousState': {'Code': 16, 'Name': 'running'}}],\n",
       "  'ResponseMetadata': {'RequestId': '21af5893-8ed1-4527-969e-06375c86b6a8',\n",
       "   'HTTPStatusCode': 200,\n",
       "   'HTTPHeaders': {'content-type': 'text/xml;charset=UTF-8',\n",
       "    'transfer-encoding': 'chunked',\n",
       "    'vary': 'Accept-Encoding',\n",
       "    'date': 'Thu, 23 Aug 2018 04:20:59 GMT',\n",
       "    'server': 'AmazonEC2'},\n",
       "   'RetryAttempts': 0}}]"
      ]
     },
     "execution_count": 21,
     "metadata": {},
     "output_type": "execute_result"
    }
   ],
   "source": [
    "# time.sleep(30) # probably not needed while working in jupyter\n",
    "#terminate all instances\n",
    "ec2.instances.filter(InstanceIds=running_instances).terminate()\n"
   ]
  },
  {
   "cell_type": "markdown",
   "metadata": {},
   "source": [
    "## End of Program"
   ]
  }
 ],
 "metadata": {
  "kernelspec": {
   "display_name": "Python 3",
   "language": "python",
   "name": "python3"
  },
  "language_info": {
   "codemirror_mode": {
    "name": "ipython",
    "version": 3
   },
   "file_extension": ".py",
   "mimetype": "text/x-python",
   "name": "python",
   "nbconvert_exporter": "python",
   "pygments_lexer": "ipython3",
   "version": "3.6.5"
  }
 },
 "nbformat": 4,
 "nbformat_minor": 2
}
